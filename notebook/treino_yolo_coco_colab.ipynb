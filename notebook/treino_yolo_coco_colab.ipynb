{
 "cells": [
  {
   "cell_type": "code",
   "execution_count": null,
   "metadata": {},
   "outputs": [],
   "source": [
    "!pip install ultralytics --quiet\n",
    "from ultralytics import YOLO\n",
    "import os\n",
    "\n",
    "# Baixar dataset COCO128\n",
    "!curl -L \"https://github.com/ultralytics/yolov5/releases/download/v1.0/coco128.zip\" -o coco128.zip\n",
    "!unzip -q coco128.zip -d ./datasets\n",
    "\n",
    "# Criar arquivo data.yaml\n",
    "data_yaml = \"\"\"\n",
    "train: ./datasets/coco128/images/train2017\n",
    "val: ./datasets/coco128/images/train2017\n",
    "nc: 2\n",
    "names: ['dog', 'bicycle']\n",
    "\"\"\"\n",
    "os.makedirs('./datasets/coco128_custom', exist_ok=True)\n",
    "with open('./datasets/coco128_custom/data.yaml', 'w') as f:\n",
    "    f.write(data_yaml)\n",
    "\n",
    "# Carregar modelo pré-treinado\n",
    "model = YOLO('yolov8s.pt')\n",
    "\n",
    "# Treinar\n",
    "model.train(data='./datasets/coco128_custom/data.yaml', epochs=20, imgsz=640, batch=8)\n",
    "\n",
    "# Testar\n",
    "results = model.predict(source='./datasets/coco128/images/train2017', save=True)"
   ]
  }
 ],
 "metadata": {
  "colab": {
   "provenance": []
  },
  "kernelspec": {
   "display_name": "Python 3",
   "language": "python",
   "name": "python3"
  },
  "language_info": {
   "name": "python"
  }
 },
 "nbformat": 4,
 "nbformat_minor": 0
}